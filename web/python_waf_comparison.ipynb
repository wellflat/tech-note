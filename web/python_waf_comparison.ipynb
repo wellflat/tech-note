{
 "cells": [
  {
   "cell_type": "markdown",
   "metadata": {},
   "source": [
    "# comparison between Flask and Sanic"
   ]
  },
  {
   "cell_type": "code",
   "execution_count": 1,
   "metadata": {
    "scrolled": true
   },
   "outputs": [
    {
     "name": "stderr",
     "output_type": "stream",
     "text": [
      " * Running on http://0.0.0.0:8000/ (Press CTRL+C to quit)\n",
      "127.0.0.1 - - [16/Apr/2018 10:37:48] \"GET / HTTP/1.1\" 200 -\n",
      "127.0.0.1 - - [16/Apr/2018 10:37:51] \"GET /json HTTP/1.1\" 200 -\n"
     ]
    }
   ],
   "source": [
    "from flask import Flask, jsonify\n",
    "\n",
    "app = Flask(__name__)\n",
    "\n",
    "@app.route('/')\n",
    "def hello():\n",
    "    return 'hello, world'\n",
    "\n",
    "@app.route('/json')\n",
    "def hello_json():\n",
    "    return jsonify({'hello':'world'})\n",
    "    \n",
    "if __name__ == \"__main__\":\n",
    "    app.run(host=\"0.0.0.0\", port=8000)"
   ]
  },
  {
   "cell_type": "code",
   "execution_count": 2,
   "metadata": {},
   "outputs": [
    {
     "name": "stdout",
     "output_type": "stream",
     "text": [
      "[2018-04-16 10:37:58 +0900] [22468] [INFO] Goin' Fast @ http://0.0.0.0:8000\n",
      "[2018-04-16 10:37:58 +0900] [22468] [INFO] Starting worker [22468]\n",
      "[2018-04-16 10:38:05 +0900] - (sanic.access)[INFO][1:2]: GET http://localhost:8000/  200 12\n",
      "[2018-04-16 10:38:06 +0900] - (sanic.access)[INFO][1:2]: GET http://localhost:8000/json  200 17\n",
      "[2018-04-16 10:38:15 +0900] [22468] [INFO] Stopping worker [22468]\n",
      "[2018-04-16 10:38:15 +0900] [22468] [INFO] Server Stopped\n"
     ]
    }
   ],
   "source": [
    "from sanic import Sanic\n",
    "from sanic.response import text, json\n",
    "\n",
    "app = Sanic(__name__)\n",
    "\n",
    "@app.route('/')\n",
    "async def hello(request):\n",
    "    return text('hello, world')\n",
    "\n",
    "@app.route('/json')\n",
    "async def hello_json(request):\n",
    "    return json({'hello':'world'})\n",
    "\n",
    "if __name__ == \"__main__\":\n",
    "    app.run(host=\"0.0.0.0\", port=8000)"
   ]
  },
  {
   "cell_type": "code",
   "execution_count": null,
   "metadata": {},
   "outputs": [],
   "source": []
  }
 ],
 "metadata": {
  "kernelspec": {
   "display_name": "Python 3",
   "language": "python",
   "name": "python3"
  },
  "language_info": {
   "codemirror_mode": {
    "name": "ipython",
    "version": 3
   },
   "file_extension": ".py",
   "mimetype": "text/x-python",
   "name": "python",
   "nbconvert_exporter": "python",
   "pygments_lexer": "ipython3",
   "version": "3.6.4"
  }
 },
 "nbformat": 4,
 "nbformat_minor": 2
}
